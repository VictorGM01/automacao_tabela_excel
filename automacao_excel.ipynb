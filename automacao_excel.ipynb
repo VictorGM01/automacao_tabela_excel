{
  "nbformat": 4,
  "nbformat_minor": 5,
  "metadata": {
    "kernelspec": {
      "display_name": "Python 3",
      "language": "python",
      "name": "python3"
    },
    "language_info": {
      "codemirror_mode": {
        "name": "ipython",
        "version": 3
      },
      "file_extension": ".py",
      "mimetype": "text/x-python",
      "name": "python",
      "nbconvert_exporter": "python",
      "pygments_lexer": "ipython3",
      "version": "3.8.8"
    },
    "colab": {
      "name": "automacao_excel.ipynb",
      "provenance": []
    }
  },
  "cells": [
    {
      "cell_type": "code",
      "metadata": {
        "scrolled": true,
        "id": "68ac197b"
      },
      "source": [
        "from selenium import webdriver\n",
        "from selenium.webdriver.common.keys import Keys\n",
        "\n",
        "#pesquisar cotação do dólar:\n",
        "navegador = webdriver.Chrome()\n",
        "navegador.get('https://www.google.com.br/')\n",
        "navegador.find_element_by_xpath(\n",
        "    '/html/body/div[1]/div[3]/form/div[1]/div[1]/div[1]/div/div[2]/input').send_keys('cotação do dólar')\n",
        "navegador.find_element_by_xpath(\n",
        "    '/html/body/div[1]/div[3]/form/div[1]/div[1]/div[1]/div/div[2]/input').send_keys(Keys.ENTER)\n",
        "cotacao_dolar = navegador.find_element_by_xpath(\n",
        "    '//*[@id=\"knowledge-currency__updatable-data-column\"]/div[1]/div[2]/span[1]').get_attribute('data-value')\n",
        "print(cotacao_dolar)\n",
        "\n",
        "#pesquisar cotação do euro:\n",
        "navegador.get('https://www.google.com.br/')\n",
        "navegador.find_element_by_xpath(\n",
        "    '/html/body/div[1]/div[3]/form/div[1]/div[1]/div[1]/div/div[2]/input').send_keys('cotação do euro')\n",
        "navegador.find_element_by_xpath(\n",
        "    '/html/body/div[1]/div[3]/form/div[1]/div[1]/div[1]/div/div[2]/input').send_keys(Keys.ENTER)\n",
        "cotacao_euro = navegador.find_element_by_xpath(\n",
        "    '//*[@id=\"knowledge-currency__updatable-data-column\"]/div[1]/div[2]/span[1]').get_attribute('data-value')\n",
        "print(cotacao_euro)\n",
        "\n",
        "#pesquisar cotação do ouro:\n",
        "navegador.get('https://www.melhorcambio.com/ouro-hoje')\n",
        "cotacao_ouro = navegador.find_element_by_id('comercial').get_attribute('value')\n",
        "cotacao_ouro = cotacao_ouro.replace(\",\", \".\")\n",
        "print(cotacao_ouro)\n",
        "\n",
        "navegador.quit()\n"
      ],
      "id": "68ac197b",
      "execution_count": null,
      "outputs": []
    },
    {
      "cell_type": "code",
      "metadata": {
        "id": "28396e18"
      },
      "source": [
        "\n",
        "import pandas as pd\n",
        "\n",
        "# importar planilha\n",
        "tabela_produtos = pd.read_excel('produtos.xlsx')\n",
        "display(tabela_produtos)\n"
      ],
      "id": "28396e18",
      "execution_count": null,
      "outputs": []
    },
    {
      "cell_type": "code",
      "metadata": {
        "id": "97450527"
      },
      "source": [
        "\n",
        "# atualizar planilha\n",
        "tabela_produtos.loc[tabela_produtos['Moeda']==\"Dólar\", \"Cotação\"] = float(cotacao_dolar)\n",
        "tabela_produtos.loc[tabela_produtos['Moeda']==\"Euro\", \"Cotação\"] = float(cotacao_euro)\n",
        "tabela_produtos.loc[tabela_produtos['Moeda']==\"Ouro\", \"Cotação\"] = float(cotacao_ouro)\n",
        "\n",
        "tabela_produtos['Preço Base Reais'] = tabela_produtos[\"Preço Base Original\"] * tabela_produtos[\"Cotação\"]\n",
        "tabela_produtos['Preço Final'] = tabela_produtos[\"Preço Base Reais\"] * tabela_produtos[\"Margem\"]\n",
        "display(tabela_produtos)"
      ],
      "id": "97450527",
      "execution_count": null,
      "outputs": []
    },
    {
      "cell_type": "code",
      "metadata": {
        "id": "11e9e9d7"
      },
      "source": [
        "# exportar planilha para um arquivo excel\n",
        "tabela_produtos.to_excel(\"Produtos Atualizado.xlsx\", index=False)"
      ],
      "id": "11e9e9d7",
      "execution_count": null,
      "outputs": []
    }
  ]
}