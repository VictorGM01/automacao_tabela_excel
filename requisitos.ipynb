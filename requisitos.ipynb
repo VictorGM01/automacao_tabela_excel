{
  "nbformat": 4,
  "nbformat_minor": 0,
  "metadata": {
    "colab": {
      "name": "requisitos.ipynb",
      "provenance": [],
      "authorship_tag": "ABX9TyPUNplj/varzlrmI4Y8rjF4",
      "include_colab_link": true
    },
    "kernelspec": {
      "name": "python3",
      "display_name": "Python 3"
    },
    "language_info": {
      "name": "python"
    }
  },
  "cells": [
    {
      "cell_type": "markdown",
      "metadata": {
        "id": "view-in-github",
        "colab_type": "text"
      },
      "source": [
        "<a href=\"https://colab.research.google.com/github/VictorGM01/automacao_tabela_excel/blob/main/requisitos.ipynb\" target=\"_parent\"><img src=\"https://colab.research.google.com/assets/colab-badge.svg\" alt=\"Open In Colab\"/></a>"
      ]
    },
    {
      "cell_type": "markdown",
      "metadata": {
        "id": "FwaoBPy2iCiO"
      },
      "source": [
        "# Requisitos para o código de automação funcionar\n"
      ]
    },
    {
      "cell_type": "markdown",
      "metadata": {
        "id": "Mi7G-_qQeFl3"
      },
      "source": [
        "Para que seja possível executar o código de automação, é necessário que você tenha, de preferência na mesma pasta do arquivo do código, a tabela \"Produtos.xlsx\". Além disso, você precisa ter insatalado o webdriver do google chrome: https://chromedriver.chromium.org/downloads, instale-o na mesma pasta em que se encontra o \"python.exe\".\n"
      ]
    },
    {
      "cell_type": "markdown",
      "metadata": {
        "id": "WA64PPy7iPHQ"
      },
      "source": [
        "# Requirements for automation code to work\n"
      ]
    },
    {
      "cell_type": "markdown",
      "metadata": {
        "id": "8vITdnegiZYB"
      },
      "source": [
        "In order to be able to execute the automation code, it is necessary that you have, preferably in the same paste of the code, the table \"Products.xlsx\". Also, you need to have installed the google chrome webdriver: https://chromedriver.chromium.org/downloads, install it in the same folder where the \"python.exe\" is."
      ]
    }
  ]
}